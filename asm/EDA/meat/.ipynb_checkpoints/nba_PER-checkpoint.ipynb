{
 "cells": [
  {
   "cell_type": "markdown",
   "metadata": {},
   "source": [
    "link:\n",
    "\n",
    "http://insider.espn.com/nba/hollinger/statistics"
   ]
  },
  {
   "cell_type": "code",
   "execution_count": 1,
   "metadata": {},
   "outputs": [],
   "source": [
    "import pandas as pd\n",
    "import csv"
   ]
  },
  {
   "cell_type": "code",
   "execution_count": 19,
   "metadata": {},
   "outputs": [],
   "source": [
    "from selenium.webdriver import Firefox\n",
    "from bs4 import BeautifulSoup\n",
    "\n",
    "url = 'https://www.teamrankings.com/nba/player-stat/nba-efficiency?season_id=216'\n",
    "driver = Firefox()\n",
    "driver.get(url)"
   ]
  },
  {
   "cell_type": "code",
   "execution_count": 20,
   "metadata": {},
   "outputs": [],
   "source": [
    "soup = BeautifulSoup(driver.page_source)"
   ]
  },
  {
   "cell_type": "code",
   "execution_count": 6,
   "metadata": {},
   "outputs": [],
   "source": [
    "headers = soup.find(_class='colhead')"
   ]
  },
  {
   "cell_type": "code",
   "execution_count": 24,
   "metadata": {},
   "outputs": [],
   "source": [
    "headers = soup.find('thead').find('tr').find_all('th')\n",
    "headers = [i.text for i in headers]"
   ]
  },
  {
   "cell_type": "code",
   "execution_count": 25,
   "metadata": {},
   "outputs": [
    {
     "data": {
      "text/plain": [
       "['Rank', 'Player', 'Team', 'Pos', 'Value']"
      ]
     },
     "execution_count": 25,
     "metadata": {},
     "output_type": "execute_result"
    }
   ],
   "source": [
    "headers"
   ]
  },
  {
   "cell_type": "code",
   "execution_count": 71,
   "metadata": {},
   "outputs": [],
   "source": [
    "with open('top_per_0607.csv', 'w') as file:\n",
    "    csv_writer = csv.writer(file, delimiter=',')\n",
    "    csv_writer.writerow([header for header in headers])\n",
    "#     for i in range(9):\n",
    "        \n",
    "    soup = BeautifulSoup(driver.page_source) \n",
    "    players = soup.find('table').find_all('tr')[1:]\n",
    "    for player in players:\n",
    "        csv_writer.writerow( \n",
    "            [item.text for item in player.find_all('td')]\n",
    "        )\n",
    "    \n",
    "# driver.find_element_by_xpah(r'/html/body/main/div[2]/div/div[2]/div/div/nba-stat-table/div[3]/div/div/a[2]').click()"
   ]
  },
  {
   "cell_type": "code",
   "execution_count": 72,
   "metadata": {},
   "outputs": [
    {
     "data": {
      "text/html": [
       "<div>\n",
       "<style scoped>\n",
       "    .dataframe tbody tr th:only-of-type {\n",
       "        vertical-align: middle;\n",
       "    }\n",
       "\n",
       "    .dataframe tbody tr th {\n",
       "        vertical-align: top;\n",
       "    }\n",
       "\n",
       "    .dataframe thead th {\n",
       "        text-align: right;\n",
       "    }\n",
       "</style>\n",
       "<table border=\"1\" class=\"dataframe\">\n",
       "  <thead>\n",
       "    <tr style=\"text-align: right;\">\n",
       "      <th></th>\n",
       "      <th>Rank</th>\n",
       "      <th>Player</th>\n",
       "      <th>Team</th>\n",
       "      <th>Pos</th>\n",
       "      <th>Value</th>\n",
       "    </tr>\n",
       "  </thead>\n",
       "  <tbody>\n",
       "    <tr>\n",
       "      <th>95</th>\n",
       "      <td>96</td>\n",
       "      <td>Kentavious Caldwell-Pope</td>\n",
       "      <td>Detroit Pistons</td>\n",
       "      <td>SG</td>\n",
       "      <td>12.03</td>\n",
       "    </tr>\n",
       "    <tr>\n",
       "      <th>96</th>\n",
       "      <td>97</td>\n",
       "      <td>Courtney Lee</td>\n",
       "      <td>New York Knicks</td>\n",
       "      <td>SG</td>\n",
       "      <td>11.86</td>\n",
       "    </tr>\n",
       "    <tr>\n",
       "      <th>97</th>\n",
       "      <td>98</td>\n",
       "      <td>Rondae Hollis-Jefferson</td>\n",
       "      <td>Brooklyn Nets</td>\n",
       "      <td>SF</td>\n",
       "      <td>11.81</td>\n",
       "    </tr>\n",
       "    <tr>\n",
       "      <th>98</th>\n",
       "      <td>99</td>\n",
       "      <td>Alex Len</td>\n",
       "      <td>Phoenix Suns</td>\n",
       "      <td>C</td>\n",
       "      <td>11.81</td>\n",
       "    </tr>\n",
       "    <tr>\n",
       "      <th>99</th>\n",
       "      <td>100</td>\n",
       "      <td>Jordan Clarkson</td>\n",
       "      <td>Los Angeles Lakers</td>\n",
       "      <td>PG</td>\n",
       "      <td>11.80</td>\n",
       "    </tr>\n",
       "  </tbody>\n",
       "</table>\n",
       "</div>"
      ],
      "text/plain": [
       "    Rank                    Player                Team Pos  Value\n",
       "95    96  Kentavious Caldwell-Pope     Detroit Pistons  SG  12.03\n",
       "96    97              Courtney Lee     New York Knicks  SG  11.86\n",
       "97    98   Rondae Hollis-Jefferson       Brooklyn Nets  SF  11.81\n",
       "98    99                  Alex Len        Phoenix Suns   C  11.81\n",
       "99   100           Jordan Clarkson  Los Angeles Lakers  PG  11.80"
      ]
     },
     "execution_count": 72,
     "metadata": {},
     "output_type": "execute_result"
    }
   ],
   "source": [
    "data = pd.read_csv('top_per_1617.csv')\n",
    "data.tail()"
   ]
  },
  {
   "cell_type": "markdown",
   "metadata": {},
   "source": [
    "Now, then merge the results (left joint) with nba phytho"
   ]
  },
  {
   "cell_type": "code",
   "execution_count": 88,
   "metadata": {},
   "outputs": [],
   "source": [
    "import glob\n",
    "files = glob.glob(\"top_per*csv\")\n",
    "\n",
    "drop_cols = ['Team', 'Pos']\n",
    "phythro = pd.read_csv('phythro_nba.csv')"
   ]
  },
  {
   "cell_type": "code",
   "execution_count": 91,
   "metadata": {},
   "outputs": [],
   "source": [
    "for file in files:\n",
    "    data = pd.read_csv(file)\n",
    "    data = data.drop(drop_cols, axis=1)\n",
    "    data.rename(columns={'Value':'Efficiency'}, inplace=True)\n",
    "    data = data.merge(phythro, how='left', on='Player')\n",
    "    data.to_csv(file)"
   ]
  },
  {
   "cell_type": "markdown",
   "metadata": {},
   "source": [
    "Done. Now we have enought data to do analysis."
   ]
  },
  {
   "cell_type": "code",
   "execution_count": null,
   "metadata": {},
   "outputs": [],
   "source": []
  }
 ],
 "metadata": {
  "kernelspec": {
   "display_name": "Python 3",
   "language": "python",
   "name": "python3"
  },
  "language_info": {
   "codemirror_mode": {
    "name": "ipython",
    "version": 3
   },
   "file_extension": ".py",
   "mimetype": "text/x-python",
   "name": "python",
   "nbconvert_exporter": "python",
   "pygments_lexer": "ipython3",
   "version": "3.7.3"
  }
 },
 "nbformat": 4,
 "nbformat_minor": 4
}
